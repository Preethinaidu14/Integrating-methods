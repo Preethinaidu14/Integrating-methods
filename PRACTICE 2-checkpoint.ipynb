{
 "cells": [
  {
   "cell_type": "markdown",
   "metadata": {},
   "source": [
    "## QUADRATIC EQUATION"
   ]
  },
  {
   "cell_type": "code",
   "execution_count": 2,
   "metadata": {},
   "outputs": [
    {
     "name": "stdout",
     "output_type": "stream",
     "text": [
      "Find the roots(x) of the quadratic equation of the form a*(x**2)+b*x+c=0\n",
      "enter the coefficient of x**2__4\n",
      "enter the coefficient of b*x__8\n",
      "enter the last constant term__2\n",
      "delta__ 32\n",
      "The roots of the equation is real and unequal__ -0.2928932188134524 and -1.7071067811865475\n"
     ]
    }
   ],
   "source": [
    "import math\n",
    "from math import sqrt\n",
    "print(\"Find the roots(x) of the quadratic equation of the form a*(x**2)+b*x+c=0\")\n",
    "a = int(input(\"enter the coefficient of x**2__\"))\n",
    "b = int(input(\"enter the coefficient of b*x__\"))\n",
    "c = int(input(\"enter the last constant term__\"))\n",
    "d = b**2-(4*a*c)\n",
    "print(\"delta__\",d)\n",
    "if (d > 0):\n",
    "    x1 = (-b+math.sqrt(d))/(2*a)\n",
    "    x2 = (-b-math.sqrt(d))/(2*a)\n",
    "    print(\"The roots of the equation is real and unequal__\",x1,\"and\",x2)\n",
    "else:\n",
    "    if(d == 0):\n",
    "        x1 = -b/(2*a)\n",
    "        print(\"The root of the equation is real and equal__\", x1)\n",
    "    else:\n",
    "        print(\"The root of the equation is imaginary\")"
   ]
  },
  {
   "cell_type": "markdown",
   "metadata": {},
   "source": [
    "## AREA OF TRIANGLE"
   ]
  },
  {
   "cell_type": "code",
   "execution_count": 3,
   "metadata": {},
   "outputs": [
    {
     "name": "stdout",
     "output_type": "stream",
     "text": [
      "The semi-perimeter of the triangle is __ 7.5\n",
      "the area of the triangle using herons formula__ 9.921567416492215\n"
     ]
    }
   ],
   "source": [
    "from math import sqrt\n",
    "a = 4\n",
    "b = 5\n",
    "c = 6\n",
    "s = (a+b+c)/2\n",
    "print(\"The semi-perimeter of the triangle is __\",s)\n",
    "area = sqrt(s*(s-a)*(s-b)*(s-c))\n",
    "print(\"the area of the triangle using herons formula__\",area)"
   ]
  },
  {
   "cell_type": "markdown",
   "metadata": {},
   "source": [
    "## NEWTON RAPHSON-1"
   ]
  },
  {
   "cell_type": "code",
   "execution_count": 4,
   "metadata": {},
   "outputs": [
    {
     "name": "stdout",
     "output_type": "stream",
     "text": [
      "-0.5574077246549021\n",
      "0.06593645192484066\n",
      "-9.572191932508134e-05\n",
      "2.923566201412306e-13\n",
      "0.0\n",
      "0.0\n",
      "0.0\n",
      "0.0\n",
      "0.0\n",
      "0.0\n"
     ]
    }
   ],
   "source": [
    "import math\n",
    "def f(x):\n",
    "    return math.sin(x)\n",
    "def df(x):\n",
    "    return math.cos(x)\n",
    "f(math.pi/4)\n",
    "N = 10\n",
    "x0 = 1\n",
    "for i in range(N):\n",
    "    x1 = x0 - (f(x0)/df(x0))\n",
    "    print(x1)\n",
    "    x0 = x1"
   ]
  },
  {
   "cell_type": "markdown",
   "metadata": {},
   "source": [
    "## NEWTON RAPHSON-2"
   ]
  },
  {
   "cell_type": "code",
   "execution_count": 5,
   "metadata": {},
   "outputs": [
    {
     "name": "stdout",
     "output_type": "stream",
     "text": [
      "0.5\n",
      "0.6470588235294118\n",
      "0.6565727954767859\n",
      "0.6566204298412815\n",
      "0.6566204310471104\n",
      "0.6566204310471104\n",
      "0.6566204310471104\n",
      "0.6566204310471104\n",
      "0.6566204310471104\n",
      "0.6566204310471104\n"
     ]
    }
   ],
   "source": [
    "import math\n",
    "def g(x):\n",
    "    return (x**3)-(5*x)+3\n",
    "def dg(x):\n",
    "    return (3*x**2)-5\n",
    "N = 10\n",
    "x0 = 1\n",
    "for i in range(N):\n",
    "    x1 = x0-(g(x0)/dg(x0))\n",
    "    print(x1)\n",
    "    x0 = x1"
   ]
  },
  {
   "cell_type": "markdown",
   "metadata": {},
   "source": [
    "## NEWTON RAPHSON-3"
   ]
  },
  {
   "cell_type": "code",
   "execution_count": 6,
   "metadata": {},
   "outputs": [
    {
     "name": "stdout",
     "output_type": "stream",
     "text": [
      "0.6529186404192047\n"
     ]
    },
    {
     "data": {
      "text/plain": [
       "-1.1102230246251565e-16"
      ]
     },
     "execution_count": 6,
     "metadata": {},
     "output_type": "execute_result"
    }
   ],
   "source": [
    "from math import exp\n",
    "\n",
    "def NewtonRaphson(h,dh,x0,maxit=100):\n",
    "    for i in range(maxit):\n",
    "        x0 = x0-(h(x0)/dh(x0))\n",
    "    return(x0)\n",
    "\n",
    "def h(x):\n",
    "    return x-exp(-x**2)\n",
    "def dh(x):\n",
    "    return 1-exp(-x**2)*(-2*x)\n",
    "\n",
    "p = NewtonRaphson(h,dh,5)\n",
    "print(p)\n",
    "h(p)\n",
    "    \n"
   ]
  },
  {
   "cell_type": "markdown",
   "metadata": {},
   "source": [
    "## LAGRANGE INTERPOLATION"
   ]
  },
  {
   "cell_type": "code",
   "execution_count": 7,
   "metadata": {},
   "outputs": [
    {
     "name": "stdout",
     "output_type": "stream",
     "text": [
      "0.047619047619047616\n",
      "-5.095238095238095\n",
      "10.904761904761905\n",
      "-25.095238095238102\n",
      "57.19047619047619\n",
      "81.0\n"
     ]
    }
   ],
   "source": [
    "x = [1,3,4,6,8,10]\n",
    "y = [1,9,16,36,64,100]\n",
    "a = 9 #initial value\n",
    "n = len(x)\n",
    "s = 0\n",
    "\n",
    "for j in range(0,n):\n",
    "    L = 1\n",
    "    for k in range(0,n):\n",
    "        if (k!=j):\n",
    "            L  = (L*(a-x[k])/(x[j]-x[k]))\n",
    "            \n",
    "    s = s+ L*y[j]\n",
    "    print(s)\n"
   ]
  },
  {
   "cell_type": "markdown",
   "metadata": {},
   "source": [
    "## FIBONACCI SEQUENCE-1"
   ]
  },
  {
   "cell_type": "code",
   "execution_count": 8,
   "metadata": {},
   "outputs": [
    {
     "name": "stdout",
     "output_type": "stream",
     "text": [
      "first 0 numbers when added gives  0\n",
      "first 1 numbers when added gives  1\n",
      "first 2 numbers when added gives  3\n",
      "first 3 numbers when added gives  6\n",
      "first 4 numbers when added gives  10\n",
      "first 5 numbers when added gives  15\n",
      "first 6 numbers when added gives  21\n",
      "first 7 numbers when added gives  28\n",
      "first 8 numbers when added gives  36\n",
      "first 9 numbers when added gives  45\n"
     ]
    }
   ],
   "source": [
    "a = 0\n",
    "#n = int(input(\"enter till how many numbers you want to find the fibonacci sequence\"))\n",
    "for i in range(10):\n",
    "    a = a + i\n",
    "    print(\"first\",i,\"numbers when added gives \",a)"
   ]
  },
  {
   "cell_type": "code",
   "execution_count": 9,
   "metadata": {},
   "outputs": [
    {
     "name": "stdout",
     "output_type": "stream",
     "text": [
      "enter till how many numbers you want to find the fibonacci sequence15\n",
      "first 0 numbers when added gives  0\n",
      "first 1 numbers when added gives  1\n",
      "first 2 numbers when added gives  3\n",
      "first 3 numbers when added gives  6\n",
      "first 4 numbers when added gives  10\n",
      "first 5 numbers when added gives  15\n",
      "first 6 numbers when added gives  21\n",
      "first 7 numbers when added gives  28\n",
      "first 8 numbers when added gives  36\n",
      "first 9 numbers when added gives  45\n",
      "first 10 numbers when added gives  55\n",
      "first 11 numbers when added gives  66\n",
      "first 12 numbers when added gives  78\n",
      "first 13 numbers when added gives  91\n",
      "first 14 numbers when added gives  105\n"
     ]
    }
   ],
   "source": [
    "a = 0\n",
    "n = int(input(\"enter till how many numbers you want to find the fibonacci sequence\"))\n",
    "for i in range(n):\n",
    "    a = a + i\n",
    "    print(\"first\",i,\"numbers when added gives \",a)"
   ]
  },
  {
   "cell_type": "markdown",
   "metadata": {},
   "source": [
    "## FIBONACCI SEQUENCE-2"
   ]
  },
  {
   "cell_type": "code",
   "execution_count": 10,
   "metadata": {},
   "outputs": [
    {
     "data": {
      "text/plain": [
       "55"
      ]
     },
     "execution_count": 10,
     "metadata": {},
     "output_type": "execute_result"
    }
   ],
   "source": [
    "def fibo(n):\n",
    "    if(n==0):\n",
    "        return 0\n",
    "    else:\n",
    "        if(n==1):\n",
    "            return 1\n",
    "        else:\n",
    "            return (fibo(n-1)+fibo(n-2))\n",
    "fibo(10)\n",
    "        "
   ]
  },
  {
   "cell_type": "markdown",
   "metadata": {},
   "source": [
    "## TABLES"
   ]
  },
  {
   "cell_type": "code",
   "execution_count": 11,
   "metadata": {},
   "outputs": [
    {
     "name": "stdout",
     "output_type": "stream",
     "text": [
      "which tables you want as an output7\n",
      "7 X 1 = 7\n",
      "7 X 2 = 14\n",
      "7 X 3 = 21\n",
      "7 X 4 = 28\n",
      "7 X 5 = 35\n",
      "7 X 6 = 42\n",
      "7 X 7 = 49\n",
      "7 X 8 = 56\n",
      "7 X 9 = 63\n",
      "7 X 10 = 70\n"
     ]
    }
   ],
   "source": [
    "a = int(input(\"which tables you want as an output\"))\n",
    "for i in range(1,11):\n",
    "    print(a,\"X\",i,\"=\",a*i)\n",
    "    "
   ]
  },
  {
   "cell_type": "markdown",
   "metadata": {},
   "source": [
    "## BISECTION"
   ]
  },
  {
   "cell_type": "code",
   "execution_count": 12,
   "metadata": {},
   "outputs": [
    {
     "name": "stdout",
     "output_type": "stream",
     "text": [
      "choose the value of a such that f(a)>0, a = 0.5\n",
      "choose the value of b such that f(b)<0,b = 1\n",
      "root of the equation is 0.75\n",
      "root of the equation is 0.6875\n",
      "root of the equation is 0.671875\n",
      "root of the equation is 0.6640625\n",
      "root of the equation is 0.66015625\n",
      "root of the equation is 0.658203125\n",
      "root of the equation is 0.6572265625\n",
      "root of the equation is 0.65673828125\n",
      "root of the equation is 0.65667724609375\n",
      "root of the equation is 0.656646728515625\n",
      "root of the equation is 0.6566314697265625\n",
      "root of the equation is 0.6566238403320312\n"
     ]
    }
   ],
   "source": [
    "from math import *\n",
    "def f(x):\n",
    "    return (x**3)-(5*x)+3\n",
    "a = float(input(\"choose the value of a such that f(a)>0, a = \"))\n",
    "b = float(input(\"choose the value of b such that f(b)<0,b = \" ))\n",
    "if (f(a)*f(b)>=0):\n",
    "    print(\"choose new interval (a,b)\")\n",
    "    \n",
    "while((b-a)>=0.00001):\n",
    "    c = (a+b)/2\n",
    "    if(f(c)==0):\n",
    "        print(\"root of the equation is \",c)\n",
    "    else:\n",
    "        if(f(a)*f(c)>0):\n",
    "            a = c\n",
    "        else:\n",
    "            b = c\n",
    "            print(\"root of the equation is\",c)\n"
   ]
  },
  {
   "cell_type": "markdown",
   "metadata": {},
   "source": [
    "## GCD OF TWO NUMBERS"
   ]
  },
  {
   "cell_type": "code",
   "execution_count": 13,
   "metadata": {},
   "outputs": [
    {
     "name": "stdout",
     "output_type": "stream",
     "text": [
      "enter the first number a--12\n",
      "enter the second number b--34\n",
      "GCD of a and b is = 2\n"
     ]
    }
   ],
   "source": [
    "def GCD(a,b):\n",
    "    if b==0:\n",
    "        return a \n",
    "    else:\n",
    "        return GCD(b,a%b)\n",
    "\n",
    "a = int(input(\"enter the first number a--\"))\n",
    "b = int(input(\"enter the second number b--\"))\n",
    "print(\"GCD of a and b is =\", GCD(a,b))"
   ]
  },
  {
   "cell_type": "code",
   "execution_count": 14,
   "metadata": {},
   "outputs": [
    {
     "name": "stderr",
     "output_type": "stream",
     "text": [
      "C:\\Users\\preethi\\AppData\\Local\\Continuum\\anaconda3\\lib\\site-packages\\ipykernel_launcher.py:2: DeprecationWarning: fractions.gcd() is deprecated. Use math.gcd() instead.\n",
      "  \n"
     ]
    },
    {
     "data": {
      "text/plain": [
       "1"
      ]
     },
     "execution_count": 14,
     "metadata": {},
     "output_type": "execute_result"
    }
   ],
   "source": [
    "from fractions import gcd\n",
    "gcd(2,3)"
   ]
  },
  {
   "cell_type": "markdown",
   "metadata": {},
   "source": [
    "## CO-PRIME"
   ]
  },
  {
   "cell_type": "code",
   "execution_count": 15,
   "metadata": {},
   "outputs": [
    {
     "name": "stdout",
     "output_type": "stream",
     "text": [
      "one of the numbers to find gcd of50\n",
      "from=0\n",
      "to=50\n",
      "1\n",
      "3\n",
      "7\n",
      "9\n",
      "11\n",
      "13\n",
      "17\n",
      "19\n",
      "21\n",
      "23\n",
      "27\n",
      "29\n",
      "31\n",
      "33\n",
      "37\n",
      "39\n",
      "41\n",
      "43\n",
      "47\n",
      "49\n"
     ]
    },
    {
     "name": "stderr",
     "output_type": "stream",
     "text": [
      "C:\\Users\\preethi\\AppData\\Local\\Continuum\\anaconda3\\lib\\site-packages\\ipykernel_launcher.py:6: DeprecationWarning: fractions.gcd() is deprecated. Use math.gcd() instead.\n",
      "  \n"
     ]
    }
   ],
   "source": [
    "from fractions import gcd\n",
    "number = int(input(\"one of the numbers to find gcd of\"))\n",
    "a = int(input(\"from=\"))\n",
    "b = int(input(\"to=\"))\n",
    "for i in range(a,b+1):\n",
    "    if gcd(number,i) == 1:\n",
    "        print(i)\n",
    "        \n",
    "    "
   ]
  },
  {
   "cell_type": "markdown",
   "metadata": {},
   "source": [
    "## SIMPSON 1/3rd"
   ]
  },
  {
   "cell_type": "code",
   "execution_count": 45,
   "metadata": {},
   "outputs": [],
   "source": [
    "#import numpy as np\n",
    "def f(x):\n",
    "    return x**4\n",
    "def simpson(f,a,b,n):\n",
    "    even = 0\n",
    "    odd = 0\n",
    "    s = 0\n",
    "    h = (b-a)/n\n",
    "    p = f(a)+f(b)\n",
    "    print(p)\n",
    "    for i in range(1,n,2):\n",
    "        x = a+i*h\n",
    "        odd = odd + f(x)\n",
    "    for i in range(2,n-1,2):\n",
    "        x = a + i*h\n",
    "        even = even + f(x)\n",
    "        \n",
    "    return (p+2*even+4*odd)*h/3.0\n",
    "    \n",
    "    \n",
    "    \n"
   ]
  },
  {
   "cell_type": "code",
   "execution_count": 46,
   "metadata": {},
   "outputs": [
    {
     "name": "stdout",
     "output_type": "stream",
     "text": [
      "1\n"
     ]
    },
    {
     "data": {
      "text/plain": [
       "0.20000000000013332"
      ]
     },
     "execution_count": 46,
     "metadata": {},
     "output_type": "execute_result"
    }
   ],
   "source": [
    "simpson(f,0,1,1000)"
   ]
  },
  {
   "cell_type": "code",
   "execution_count": 18,
   "metadata": {},
   "outputs": [
    {
     "name": "stdout",
     "output_type": "stream",
     "text": [
      "[2 4 6 8]\n"
     ]
    }
   ],
   "source": [
    "import numpy as np\n",
    "x = np.arange(2,10,2)\n",
    "print(x)\n"
   ]
  },
  {
   "cell_type": "code",
   "execution_count": 50,
   "metadata": {},
   "outputs": [
    {
     "name": "stdout",
     "output_type": "stream",
     "text": [
      "enter the lower limit of the integral0\n",
      "enter the upper limit of the integral1\n",
      "enter the nnumber of sub intervals1000\n",
      "0.25\n"
     ]
    }
   ],
   "source": [
    "from math import *\n",
    "def f(x):\n",
    "    return x**3\n",
    "\n",
    "a = int(input(\"enter the lower limit of the integral\"))\n",
    "b = int(input(\"enter the upper limit of the integral\"))\n",
    "n = int(input(\"enter the nnumber of sub intervals\"))\n",
    "h = (b-a)/n\n",
    "\n",
    "sum1 = 0\n",
    "sum2 = 0\n",
    "\n",
    "for i in range(1,n,2):\n",
    "    x = a + i*h\n",
    "    sum1 = sum1 + f(x)\n",
    "for i in range(2,n-1,2):\n",
    "    x = a + i*h\n",
    "    sum2 = sum2 + f(x)\n",
    "    \n",
    "simp = (h*(f(a)+4*sum1+2*sum2+f(b)))/3\n",
    "print(simp)\n",
    "    \n",
    "\n",
    "\n"
   ]
  },
  {
   "cell_type": "code",
   "execution_count": null,
   "metadata": {},
   "outputs": [],
   "source": []
  },
  {
   "cell_type": "code",
   "execution_count": null,
   "metadata": {},
   "outputs": [],
   "source": []
  }
 ],
 "metadata": {
  "kernelspec": {
   "display_name": "Python 3",
   "language": "python",
   "name": "python3"
  },
  "language_info": {
   "codemirror_mode": {
    "name": "ipython",
    "version": 3
   },
   "file_extension": ".py",
   "mimetype": "text/x-python",
   "name": "python",
   "nbconvert_exporter": "python",
   "pygments_lexer": "ipython3",
   "version": "3.7.3"
  }
 },
 "nbformat": 4,
 "nbformat_minor": 2
}
